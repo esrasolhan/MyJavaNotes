{
  "nbformat": 4,
  "nbformat_minor": 0,
  "metadata": {
    "colab": {
      "provenance": [],
      "authorship_tag": "ABX9TyPsh6UPuedN9ccukY8UFFdv",
      "include_colab_link": true
    },
    "kernelspec": {
      "name": "python3",
      "display_name": "Python 3"
    },
    "language_info": {
      "name": "python"
    }
  },
  "cells": [
    {
      "cell_type": "markdown",
      "metadata": {
        "id": "view-in-github",
        "colab_type": "text"
      },
      "source": [
        "<a href=\"https://colab.research.google.com/github/esrasolhan/MyJavaNotes/blob/main/My_Java_Notes.ipynb\" target=\"_parent\"><img src=\"https://colab.research.google.com/assets/colab-badge.svg\" alt=\"Open In Colab\"/></a>"
      ]
    },
    {
      "cell_type": "markdown",
      "source": [
        "Bu defterde Java için Eclipse Ide kullanılmıştır. \n",
        "1.  Java'da \"main\" class ana giriş gibidir.\n",
        "2. \"println\" fonksiyonu, çift tırnak içinde verilen ifadenin yeni bir satırda print edilmesi için kullanılır.\n",
        "3. Java'da kod satırı \";\" ile bitirilir.\n",
        "4. Java büyük-küçük harfe duyarlıdır. \n",
        "5. \"//\" ile comment girilir.\n",
        "\n",
        "**DEĞİŞKENLER/VARIABLES**\n",
        "\n",
        "* Tutulan her bir data (veri) için bir değişken tanımlanması gerekir.\n",
        "\n",
        "* Değişken ismi verilirken ilk harf dışındaki harfler büyük yazılabilir ancak ilk harf küçük olmalıdır.\n",
        "\n",
        "* Değişkenler \"reusability\" yani tekrar tekrar kullanılmayı sağlar. \n",
        "\n",
        "* Bellek yönetimi sağlar.\n",
        "\n",
        "* Değişken tanımlanırken, içerdiği datanın türüne göre type bilgisi girilmesi gerekir. \n",
        "  Örneğin; \n",
        "      int öğrenciSayısı = 11; ( tam sayılar için \"integer\" yani \"int\")\n",
        "      str metin = \"Öğrenci sayısı\"; (metinsel ifadeler için \"string\" yani \"str)\n",
        "                                                                              şeklinde verilmelidir. \n",
        "\n",
        "**VERİ TİPLERİ/ DATA TYPES**\n",
        "\n",
        "* Java'da girilen değişkenlerin veri tiplerinin girilmesi zorunludur.\n",
        "\n",
        "**Temel Veri Tipleri**\n",
        "1. **Boundaries:** True ya da False yani 0 veya 1 olarak veri tutar. Bellekte, 1 Bytelık yer kaplar. \n",
        "2. **Char:** Tek Unicode karakterlerini tutar. Bellekte, 2 Bytelık yer kaplar. Tanımlanırken karakterler, tek tırnak içine alınır. Çift tırnak kullanılmaz (kullanılırsa \"String\" olur ve hata verir.)\n",
        "3. **Byte:**Tam sayı verileri tutar. Bellekte, 1 Bytelık yer kaplar. -128 ile 127 arasındaki sayıları tutar.\n",
        "4. **Short:** Tam sayı verileri tutar. Bellekte, 2 Bytelık yer kaplar. \n",
        "5. **Integer:** Tam sayı verileri tutar. Bellekte, 4 Bytelık yer kaplar. -2147483648 ile 2147483647 arasındaki sayıları tutar.\n",
        "6. **Long:** Tam sayı verileri tutar. Bellekte, 8 Bytelık yer kaplar.\n",
        "7. **Float:** Kesirli sayıları tutar. Bellekte, 4 Bytelık yer kaplar. \n",
        "8. **Double:** Kesirli sayıları tutar. Bellekte, 8 Bytelık yer kaplar.\n",
        "\n",
        "\n",
        "\n",
        "\n",
        "\n",
        "\n",
        "\n",
        "\n",
        "\n",
        "\n"
      ],
      "metadata": {
        "id": "pCpr-pzz1se1"
      }
    }
  ]
}